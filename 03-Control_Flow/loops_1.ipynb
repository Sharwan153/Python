{
 "cells": [
  {
   "cell_type": "code",
   "execution_count": 3,
   "id": "d6323e06",
   "metadata": {},
   "outputs": [],
   "source": [
    "import pandas as pd"
   ]
  },
  {
   "cell_type": "code",
   "execution_count": 4,
   "id": "da5429db",
   "metadata": {},
   "outputs": [
    {
     "name": "stdout",
     "output_type": "stream",
     "text": [
      "a: 1\n",
      "b: 2\n",
      "c: 3\n"
     ]
    }
   ],
   "source": [
    "\n",
    "\n",
    "# Sample DataFrame\n",
    "df = pd.DataFrame({\n",
    "    'numbers': [1, 2, 3, 4, 5]\n",
    "})\n",
    "\n",
    "# Extracting first 3 values into separate variables\n",
    "a, b, c = df['numbers'][:3]\n",
    "\n",
    "print(\"a:\", a)\n",
    "print(\"b:\", b)\n",
    "print(\"c:\", c)\n"
   ]
  },
  {
   "cell_type": "code",
   "execution_count": 5,
   "id": "6aa80f70",
   "metadata": {},
   "outputs": [
    {
     "name": "stdout",
     "output_type": "stream",
     "text": [
      "1\n",
      "2\n",
      "3\n"
     ]
    }
   ],
   "source": [
    "variables = {}\n",
    "for i, value in enumerate(df['numbers'][:3]):\n",
    "    variables[f'var{i+1}'] = value\n",
    "\n",
    "print(variables['var1'])  # 1\n",
    "print(variables['var2'])  # 2\n",
    "print(variables['var3'])  # 3\n"
   ]
  },
  {
   "cell_type": "code",
   "execution_count": 7,
   "id": "152eddf1",
   "metadata": {},
   "outputs": [
    {
     "name": "stdout",
     "output_type": "stream",
     "text": [
      "Values for 1: [1, 1, 1]\n",
      "Values for 2: [2, 2, 2]\n",
      "Values for 3: [3, 3, 3]\n",
      "Values for 10000: [10000]\n"
     ]
    }
   ],
   "source": [
    "\n",
    "\n",
    "# Example: Simulating your column\n",
    "df = pd.DataFrame({\n",
    "    'col': [1, 2, 1, 3, 2, 3, 1, 2, 3, 4, 4, 4, 10000]\n",
    "})\n",
    "\n",
    "# Group values into a dictionary\n",
    "grouped_vars = {}\n",
    "\n",
    "for val in df['col']:\n",
    "    if val not in grouped_vars:\n",
    "        grouped_vars[val] = []\n",
    "    grouped_vars[val].append(val)\n",
    "\n",
    "# Example: Accessing values\n",
    "print(\"Values for 1:\", grouped_vars[1])\n",
    "print(\"Values for 2:\", grouped_vars[2])\n",
    "print(\"Values for 3:\", grouped_vars[3])\n",
    "print(\"Values for 10000:\", grouped_vars[10000])\n"
   ]
  },
  {
   "cell_type": "code",
   "execution_count": null,
   "id": "76274a8c",
   "metadata": {},
   "outputs": [],
   "source": []
  }
 ],
 "metadata": {
  "kernelspec": {
   "display_name": "Python 3",
   "language": "python",
   "name": "python3"
  },
  "language_info": {
   "codemirror_mode": {
    "name": "ipython",
    "version": 3
   },
   "file_extension": ".py",
   "mimetype": "text/x-python",
   "name": "python",
   "nbconvert_exporter": "python",
   "pygments_lexer": "ipython3",
   "version": "3.12.0"
  }
 },
 "nbformat": 4,
 "nbformat_minor": 5
}
