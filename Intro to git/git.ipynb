{
 "cells": [
  {
   "cell_type": "markdown",
   "id": "962ce692",
   "metadata": {},
   "source": [
    "Ist step --> Create a github account because in order to push your code file you need to have this account."
   ]
  },
  {
   "cell_type": "markdown",
   "id": "07dc96e9",
   "metadata": {},
   "source": [
    "## (https://github.com)"
   ]
  },
  {
   "cell_type": "markdown",
   "id": "42063d0a",
   "metadata": {},
   "source": [
    "Then download -- git bash ---- from here ---> \n",
    "\n",
    "\n",
    "### https://git-scm.com/downloads\n",
    "\n",
    "\n",
    "Install It simply click next....next....next and so on."
   ]
  },
  {
   "cell_type": "markdown",
   "id": "5e2bcc37",
   "metadata": {},
   "source": [
    "step - 3\n",
    "\n",
    "\n",
    "\n",
    "link your github with this pc using these commands in your git bash\n",
    "\n",
    "git config --global user.name \"User_name_from_github.com\"\n",
    "\n",
    "git config --global user.email \"email_used_to_create_account_on_github.com\"\n",
    "\n",
    "\n",
    "git config --list ----- for checking or verification of user name and email\n",
    "\n",
    "### Check it twice code it once."
   ]
  },
  {
   "cell_type": "code",
   "execution_count": 3,
   "id": "a199747c",
   "metadata": {},
   "outputs": [],
   "source": [
    "# first time setup\n",
    "\n",
    "# git init  -- It will create a .git directory inside the folder.\n",
    "\n",
    "# git add .\n",
    "\n",
    "# git commit -m \"message\"\n",
    "\n",
    "#  git branch -M master\n",
    "\n",
    "# git remote add origin Link_of_repository \n",
    "\n",
    "# git push -u origin master"
   ]
  },
  {
   "cell_type": "code",
   "execution_count": null,
   "id": "21cd363a",
   "metadata": {},
   "outputs": [],
   "source": []
  },
  {
   "cell_type": "markdown",
   "id": "3d9a41b6",
   "metadata": {},
   "source": [
    "### Move to desired folder and watch this video from  begining"
   ]
  },
  {
   "cell_type": "markdown",
   "id": "6506e41f",
   "metadata": {},
   "source": [
    "git init\n",
    "\n",
    "\n",
    "git add .\n",
    "\n",
    "\n",
    "git commit -m \"kch v\"\n",
    "\n",
    "git push"
   ]
  },
  {
   "cell_type": "markdown",
   "id": "86f16806",
   "metadata": {},
   "source": []
  }
 ],
 "metadata": {
  "kernelspec": {
   "display_name": "Python 3",
   "language": "python",
   "name": "python3"
  },
  "language_info": {
   "codemirror_mode": {
    "name": "ipython",
    "version": 3
   },
   "file_extension": ".py",
   "mimetype": "text/x-python",
   "name": "python",
   "nbconvert_exporter": "python",
   "pygments_lexer": "ipython3",
   "version": "3.12.0"
  }
 },
 "nbformat": 4,
 "nbformat_minor": 5
}
