{
 "cells": [
  {
   "cell_type": "markdown",
   "id": "7e263269",
   "metadata": {},
   "source": [
    "'Important Software link :-\n",
    "\n",
    "2-https://www.python.org/\n",
    "\n",
    "3-https://www.anaconda.com/\n",
    "\n",
    "4-https://code.visualstudio.com/\n",
    "\n",
    "5-https://www.jetbrains.com/pycharm/\n",
    "\n",
    "6-https://git-scm.com/downloads\n",
    "\n",
    "\n",
    "1-https://www.w3schools.com/\n",
    "\n",
    "2-https://github.com/\n",
    "\n",
    "3-https://www.youtube.com/watch?v=xX96xng7sAE\n",
    "\n",
    "4-https://pynative.com/print-pattern-python-examples/\n",
    "\n",
    "5-https://www.hackerearth.com/\n",
    "\n",
    "6-https://www.hackerrank.com/\n",
    "\n",
    "7-https://leetcode.com/\n",
    "\n",
    "8-https://www.khanacademy.org/\n",
    "'"
   ]
  }
 ],
 "metadata": {
  "kernelspec": {
   "display_name": "Python 3",
   "language": "python",
   "name": "python3"
  },
  "language_info": {
   "codemirror_mode": {
    "name": "ipython",
    "version": 3
   },
   "file_extension": ".py",
   "mimetype": "text/x-python",
   "name": "python",
   "nbconvert_exporter": "python",
   "pygments_lexer": "ipython3",
   "version": "3.12.0"
  }
 },
 "nbformat": 4,
 "nbformat_minor": 5
}
