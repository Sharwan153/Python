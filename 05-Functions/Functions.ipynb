{
 "cells": [
  {
   "cell_type": "markdown",
   "id": "50984816",
   "metadata": {},
   "source": [
    "### Functions -- A block of code written to perform a particular task.\n"
   ]
  },
  {
   "cell_type": "code",
   "execution_count": 14,
   "id": "7b77222e",
   "metadata": {},
   "outputs": [],
   "source": [
    "def add(*a):\n",
    "    # return a+b\n",
    "    print(a)"
   ]
  },
  {
   "cell_type": "code",
   "execution_count": 4,
   "id": "2153bf6d",
   "metadata": {},
   "outputs": [
    {
     "name": "stdout",
     "output_type": "stream",
     "text": [
      "-9\n"
     ]
    }
   ],
   "source": [
    "add(-5,-4)"
   ]
  },
  {
   "cell_type": "code",
   "execution_count": 6,
   "id": "54b5579d",
   "metadata": {},
   "outputs": [
    {
     "name": "stdout",
     "output_type": "stream",
     "text": [
      "Amit Upadhayay\n"
     ]
    }
   ],
   "source": [
    "add(\"Amit \", \"Upadhayay\")"
   ]
  },
  {
   "cell_type": "code",
   "execution_count": 8,
   "id": "601f184f",
   "metadata": {},
   "outputs": [
    {
     "ename": "TypeError",
     "evalue": "can only concatenate str (not \"int\") to str",
     "output_type": "error",
     "traceback": [
      "\u001b[31m---------------------------------------------------------------------------\u001b[39m",
      "\u001b[31mTypeError\u001b[39m                                 Traceback (most recent call last)",
      "\u001b[36mCell\u001b[39m\u001b[36m \u001b[39m\u001b[32mIn[8]\u001b[39m\u001b[32m, line 1\u001b[39m\n\u001b[32m----> \u001b[39m\u001b[32m1\u001b[39m \u001b[43madd\u001b[49m\u001b[43m(\u001b[49m\u001b[33;43m\"\u001b[39;49m\u001b[33;43mamit\u001b[39;49m\u001b[33;43m\"\u001b[39;49m\u001b[43m,\u001b[49m\u001b[32;43m5\u001b[39;49m\u001b[43m)\u001b[49m\n",
      "\u001b[36mCell\u001b[39m\u001b[36m \u001b[39m\u001b[32mIn[3]\u001b[39m\u001b[32m, line 3\u001b[39m, in \u001b[36madd\u001b[39m\u001b[34m(a, b)\u001b[39m\n\u001b[32m      1\u001b[39m \u001b[38;5;28;01mdef\u001b[39;00m\u001b[38;5;250m \u001b[39m\u001b[34madd\u001b[39m(a,b):\n\u001b[32m      2\u001b[39m     \u001b[38;5;66;03m# return a+b\u001b[39;00m\n\u001b[32m----> \u001b[39m\u001b[32m3\u001b[39m     \u001b[38;5;28mprint\u001b[39m(\u001b[43ma\u001b[49m\u001b[43m+\u001b[49m\u001b[43mb\u001b[49m)\n",
      "\u001b[31mTypeError\u001b[39m: can only concatenate str (not \"int\") to str"
     ]
    }
   ],
   "source": [
    "add(\"amit\",5)"
   ]
  },
  {
   "cell_type": "code",
   "execution_count": 9,
   "id": "ee08ee0d",
   "metadata": {},
   "outputs": [
    {
     "name": "stdout",
     "output_type": "stream",
     "text": [
      "6\n"
     ]
    }
   ],
   "source": [
    "a = int(input(\"Enter  First Number: \"))\n",
    "\n",
    "b = int(input(\"Enter  First Number: \"))\n",
    "\n",
    "\n",
    "add(a,b)"
   ]
  },
  {
   "cell_type": "code",
   "execution_count": 11,
   "id": "fdb60e89",
   "metadata": {},
   "outputs": [
    {
     "ename": "TypeError",
     "evalue": "add() missing 1 required positional argument: 'b'",
     "output_type": "error",
     "traceback": [
      "\u001b[31m---------------------------------------------------------------------------\u001b[39m",
      "\u001b[31mTypeError\u001b[39m                                 Traceback (most recent call last)",
      "\u001b[36mCell\u001b[39m\u001b[36m \u001b[39m\u001b[32mIn[11]\u001b[39m\u001b[32m, line 1\u001b[39m\n\u001b[32m----> \u001b[39m\u001b[32m1\u001b[39m \u001b[43madd\u001b[49m\u001b[43m(\u001b[49m\u001b[32;43m3\u001b[39;49m\u001b[43m)\u001b[49m\n",
      "\u001b[31mTypeError\u001b[39m: add() missing 1 required positional argument: 'b'"
     ]
    }
   ],
   "source": [
    "add(3)"
   ]
  },
  {
   "cell_type": "code",
   "execution_count": 15,
   "id": "ac133e8c",
   "metadata": {},
   "outputs": [
    {
     "name": "stdout",
     "output_type": "stream",
     "text": [
      "The youngest child is Linus\n"
     ]
    }
   ],
   "source": [
    "def my_function(*kids):\n",
    "  print(\"The youngest child is \" + kids[2])\n",
    "\n",
    "my_function(\"Emil\", \"Tobias\", \"Linus\", \"Leonidus\")"
   ]
  },
  {
   "cell_type": "code",
   "execution_count": 16,
   "id": "7ab9745c",
   "metadata": {},
   "outputs": [
    {
     "name": "stdout",
     "output_type": "stream",
     "text": [
      "His last name is AmitKr\n"
     ]
    }
   ],
   "source": [
    "def my_function(**kid):\n",
    "  print(\"His last name is \" + kid[\"fullname\"])\n",
    "\n",
    "my_function(fname = \"Tobias\", lname = \"Refsnes\", fullname = \"AmitKr\")"
   ]
  },
  {
   "cell_type": "code",
   "execution_count": 17,
   "id": "79bb79ce",
   "metadata": {},
   "outputs": [
    {
     "name": "stdout",
     "output_type": "stream",
     "text": [
      "I am from Sweden\n",
      "I am from India\n",
      "I am from Norway\n",
      "I am from Brazil\n"
     ]
    }
   ],
   "source": [
    "def my_function(country = \"Norway\"):\n",
    "  print(\"I am from \" + country)\n",
    "\n",
    "my_function(\"Sweden\")\n",
    "my_function(\"India\")\n",
    "my_function()\n",
    "my_function(\"Brazil\")"
   ]
  },
  {
   "cell_type": "code",
   "execution_count": 18,
   "id": "72c076b4",
   "metadata": {},
   "outputs": [],
   "source": [
    "def myfunc(n):\n",
    "  return lambda a : a * n"
   ]
  },
  {
   "cell_type": "code",
   "execution_count": 20,
   "id": "e242e3b9",
   "metadata": {},
   "outputs": [],
   "source": [
    "mydoubler = myfunc(2)\n",
    "\n",
    "mytripler = myfunc(3)\n"
   ]
  },
  {
   "cell_type": "code",
   "execution_count": 21,
   "id": "3a667d48",
   "metadata": {},
   "outputs": [
    {
     "data": {
      "text/plain": [
       "8"
      ]
     },
     "execution_count": 21,
     "metadata": {},
     "output_type": "execute_result"
    }
   ],
   "source": [
    "mydoubler(4)"
   ]
  },
  {
   "cell_type": "code",
   "execution_count": 22,
   "id": "9bf16499",
   "metadata": {},
   "outputs": [
    {
     "data": {
      "text/plain": [
       "300"
      ]
     },
     "execution_count": 22,
     "metadata": {},
     "output_type": "execute_result"
    }
   ],
   "source": [
    "mytripler(100)"
   ]
  },
  {
   "cell_type": "code",
   "execution_count": 23,
   "id": "7c3d7cc3",
   "metadata": {},
   "outputs": [],
   "source": [
    "n = lambda c : c * 25"
   ]
  },
  {
   "cell_type": "code",
   "execution_count": 24,
   "id": "71a16ae2",
   "metadata": {},
   "outputs": [
    {
     "data": {
      "text/plain": [
       "175"
      ]
     },
     "execution_count": 24,
     "metadata": {},
     "output_type": "execute_result"
    }
   ],
   "source": [
    "n(7)"
   ]
  },
  {
   "cell_type": "code",
   "execution_count": 26,
   "id": "8677f8e0",
   "metadata": {},
   "outputs": [
    {
     "data": {
      "text/plain": [
       "<function __main__.<lambda>(c)>"
      ]
     },
     "execution_count": 26,
     "metadata": {},
     "output_type": "execute_result"
    }
   ],
   "source": [
    "lambda c : c * 25"
   ]
  },
  {
   "cell_type": "code",
   "execution_count": 27,
   "id": "54e16eea",
   "metadata": {},
   "outputs": [],
   "source": [
    "def sum(n):\n",
    "    return lambda t : t + n"
   ]
  },
  {
   "cell_type": "code",
   "execution_count": 28,
   "id": "8c3b1ef3",
   "metadata": {},
   "outputs": [],
   "source": [
    "v = sum(7)"
   ]
  },
  {
   "cell_type": "code",
   "execution_count": 29,
   "id": "6686c6ff",
   "metadata": {},
   "outputs": [
    {
     "data": {
      "text/plain": [
       "16"
      ]
     },
     "execution_count": 29,
     "metadata": {},
     "output_type": "execute_result"
    }
   ],
   "source": [
    "v(9)"
   ]
  },
  {
   "cell_type": "code",
   "execution_count": null,
   "id": "6e4eebcd",
   "metadata": {},
   "outputs": [],
   "source": []
  }
 ],
 "metadata": {
  "kernelspec": {
   "display_name": "Python 3",
   "language": "python",
   "name": "python3"
  },
  "language_info": {
   "codemirror_mode": {
    "name": "ipython",
    "version": 3
   },
   "file_extension": ".py",
   "mimetype": "text/x-python",
   "name": "python",
   "nbconvert_exporter": "python",
   "pygments_lexer": "ipython3",
   "version": "3.12.0"
  }
 },
 "nbformat": 4,
 "nbformat_minor": 5
}
